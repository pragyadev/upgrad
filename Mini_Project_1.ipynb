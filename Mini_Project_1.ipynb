{
  "nbformat": 4,
  "nbformat_minor": 0,
  "metadata": {
    "colab": {
      "name": "Mini Project 1.ipynb",
      "provenance": [],
      "authorship_tag": "ABX9TyNjrvb1M4+dFGeAajCsa6CZ"
    },
    "kernelspec": {
      "name": "python3",
      "display_name": "Python 3"
    }
  },
  "cells": [
    {
      "cell_type": "markdown",
      "metadata": {
        "id": "cjFumMLKnwkX"
      },
      "source": [
        "### Importing Libraries"
      ]
    },
    {
      "cell_type": "code",
      "metadata": {
        "id": "_9dvKXq5nk5Q"
      },
      "source": [
        "import cv2\n",
        "import numpy as np"
      ],
      "execution_count": null,
      "outputs": []
    },
    {
      "cell_type": "markdown",
      "metadata": {
        "id": "Av-rvzBKn16b"
      },
      "source": [
        "### Our Text Generating Function"
      ]
    },
    {
      "cell_type": "code",
      "metadata": {
        "id": "sElaMVsynlus"
      },
      "source": [
        "def sketch(image):\n",
        "  img_gray = cv2.cvtColor(image, cv2.COLOR_BGR2GRAY)\n",
        "  img_gray_blur = cv2.GaussianBlur(img_gray, (5,5), 0)\n",
        "  canny_edges = cv2.Canny(img_gray_blur, 10, 70)*\n",
        "  ret, mask = cv2.threshold(canny_edges, 70, 255, cv2.THRESH_BINARY_INV)\n",
        "  return mask"
      ],
      "execution_count": null,
      "outputs": []
    },
    {
      "cell_type": "markdown",
      "metadata": {
        "id": "wjlnOGTpn8ol"
      },
      "source": [
        "### Initiates Webcam, cap is the object provided by VideoCapture.\n",
        "### It contains a boolean indicating if it was successful\n",
        "### It also contains the images collected from the Webcam(frame)\n"
      ]
    },
    {
      "cell_type": "code",
      "metadata": {
        "id": "LsXD0bp9nn2E"
      },
      "source": [
        "cap = cv2.VideoCapture(0)"
      ],
      "execution_count": null,
      "outputs": []
    },
    {
      "cell_type": "code",
      "metadata": {
        "id": "55OtL6J5nprU"
      },
      "source": [
        "while True:\n",
        "  ret, frame = cap.read()\n",
        "  cv2.imshow('Our Live Sketcher', sketch(frame))\n",
        "  if cv2.waitKey(1) == 13:\n",
        "    break\n",
        "\n",
        "#Release Camera and Close Window\n",
        "cap.release()\n",
        "cv2.destroyAllWindows()"
      ],
      "execution_count": null,
      "outputs": []
    }
  ]
}